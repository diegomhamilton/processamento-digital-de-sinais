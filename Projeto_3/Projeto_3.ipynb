{
 "cells": [
  {
   "cell_type": "markdown",
   "metadata": {},
   "source": [
    "# Projeto 3 - Detecção de Sinais DTMF\n",
    "\n",
    "Neste projeto será mostrado como o sistema de teclas em um telefone usa sinais de\n",
    "diferentes frequências para indicar qual tecla foi pressionada. A Transformada de Fourier\n",
    "de Tempo Discreto (TFTD) de um sinal de telefone amostrado pode ser usada para\n",
    "identificar essas frequências. O som que você escuta quando uma tecla é pressionada é a\n",
    "soma de duas senóides. A senóide de frequência mais alta indica a coluna e a de frequência\n",
    "mais baixa indica a linha do teclado. A figura 1 a seguir mostra um teclado juntamente com\n",
    "as duas frequências correspondentes a cada dígito, considerando que a forma de onda\n",
    "contínua é amostrada a $8192 kHz$. A figura mostra ainda uma tabela contendo as\n",
    "frequências de cada dígito. Assim, por exemplo, o dígito 5 é representado pelo sinal\n",
    "\n",
    "$d5 = sen(0,5906n) + sen(1,0247n)$\n",
    "\n",
    "\\begin{table}[]\n",
    "\\begin{tabular}{llll}\n",
    "               & \\multicolumn{3}{l}{Freq. (colunas)} \\\\\n",
    "Freq. (linhas) & 0,9273     & 1,0247     & 1,1328    \\\\\n",
    "0,5346         & 1          & 2          & 3         \\\\\n",
    "0,5906         & 4          & 5          & 6         \\\\\n",
    "0,6535         & 7          & 8          & 9         \\\\\n",
    "0,7217         &            & 0          &          \n",
    "\\end{tabular}\n",
    "\\end{table}"
   ]
  },
  {
   "cell_type": "markdown",
   "metadata": {},
   "source": [
    "## Parte 1: Problemas Básicos\n",
    "\n",
    "Nesses problemas você criará o tom apropriado para cada dígito e examinará a TFTD\n",
    "para verificar se os sinais tem as frequências corretas. Você também definirá um vetor\n",
    "contendo os tons de seu número de telefone.\n"
   ]
  },
  {
   "cell_type": "markdown",
   "metadata": {},
   "source": [
    "a) Crie vetores linha d0 a d9 para representar todos os 10 dígitos no intervalo 0 ≤ n ≤ 999.\n",
    "Escute cada sinal usando sound. Por exemplo, sound (d2, 8192) deve soar como o tom que\n",
    "você ouve quando pressiona o “2” no teclado."
   ]
  },
  {
   "cell_type": "code",
   "execution_count": 1,
   "metadata": {},
   "outputs": [
    {
     "name": "stdout",
     "output_type": "stream",
     "text": [
      "ALSA lib pcm_dmix.c:1052:(snd_pcm_dmix_open) unable to open slave\n",
      "ALSA lib pcm.c:2495:(snd_pcm_open_noupdate) Unknown PCM cards.pcm.rear\n",
      "ALSA lib pcm.c:2495:(snd_pcm_open_noupdate) Unknown PCM cards.pcm.center_lfe\n",
      "ALSA lib pcm.c:2495:(snd_pcm_open_noupdate) Unknown PCM cards.pcm.side\n",
      "ALSA lib pcm_route.c:867:(find_matching_chmap) Found no matching channel map\n",
      "ALSA lib pcm_dmix.c:1052:(snd_pcm_dmix_open) unable to open slave\n",
      "Cannot connect to server socket err = No such file or directory\n",
      "Cannot connect to server request channel\n",
      "jack server is not running or cannot be started\n",
      "JackShmReadWritePtr::~JackShmReadWritePtr - Init not done for -1, skipping unlock\n",
      "JackShmReadWritePtr::~JackShmReadWritePtr - Init not done for -1, skipping unlock\n"
     ]
    }
   ],
   "source": [
    "n = linspace(0, 2047, 2048); % criado com o dobro do tamanho para ouvir melhor\n",
    "\n",
    "rows = [0.5346, 0.5906, 0.6535, 0.7217];\n",
    "columns = [0.9274, 1.0247, 1.1328];\n",
    "\n",
    "d0 = sin(0.7217*n) + sin(1.0247*n);\n",
    "d1 = sin(0.5346*n) + sin(0.9273*n);\n",
    "d2 = sin(0.5346*n) + sin(1.0247*n);\n",
    "d3 = sin(0.5346*n) + sin(1.1328*n);\n",
    "d4 = sin(0.5906*n) + sin(0.9273*n);\n",
    "d5 = sin(0.5906*n) + sin(1.0247*n);\n",
    "d6 = sin(0.5906*n) + sin(1.1328*n);\n",
    "d7 = sin(0.6535*n) + sin(0.9273*n);\n",
    "d8 = sin(0.6535*n) + sin(1.0247*n);\n",
    "d9 = sin(0.6535*n) + sin(1.1328*n);\n",
    "\n",
    "sound(d0, 8192)\n",
    "sound(d1, 8192)\n",
    "sound(d2, 8192)\n",
    "sound(d3, 8192)\n",
    "sound(d4, 8192)\n",
    "sound(d5, 8192)\n",
    "sound(d6, 8192)\n",
    "sound(d7, 8192)\n",
    "sound(d8, 8192)\n",
    "sound(d9, 8192)\n",
    "\n",
    "d0 = d0(1:1000);\n",
    "d1 = d1(1:1000);\n",
    "d2 = d2(1:1000);\n",
    "d3 = d3(1:1000);\n",
    "d4 = d4(1:1000);\n",
    "d5 = d5(1:1000);\n",
    "d6 = d6(1:1000);\n",
    "d7 = d7(1:1000);\n",
    "d8 = d8(1:1000);\n",
    "d9 = d9(1:1000);"
   ]
  },
  {
   "cell_type": "markdown",
   "metadata": {},
   "source": [
    "b) A função fft pode ser usada para computar N amostras da TFTD de um sinal de\n",
    "comprimento finito, nas frequências $\\omega_k = \\frac{2 k \\pi}{Ν}$. Por exemplo, fft (x, 2048) computa 2048 amostras igualmente espaçadas de $X(e^{j\\omega})$ em $\\omega_k = \\frac{2k\\pi}{2048}$, para $0 \\leq k \\leq 2047$. Use fft para computar amostras de $D2(e^{j\\omega})$ e $D9(e^{j\\omega})$ em $\\omega_k = \\frac{2k\\pi}{2048}$. Defina omega como sendo um vetor contendo $\\omega_k$ para $0 \\leq k \\leq 2047$. Esboce as amplitudes da TFTD para esses sinais em gráficos rotulados e confirme que os picos ocorrem para as frequências dadas na figura\n",
    "1.\n"
   ]
  },
  {
   "cell_type": "code",
   "execution_count": 2,
   "metadata": {},
   "outputs": [
    {
     "data": {
      "image/png": "[encoded data removed]",
      "text/plain": [
       "<IPython.core.display.Image object>"
      ]
     },
     "metadata": {},
     "output_type": "display_data"
    }
   ],
   "source": [
    "w_k = 2*n*pi/2048;\n",
    "D2 = fft(d2, 2048);\n",
    "D9 = fft(d9, 2048);\n",
    "\n",
    "plot(w_k, D2.*conj(D2), w_k, D9.*conj(D9))\n",
    "xlim([0 pi/2])\n",
    "xlabel('\\omega_k')\n",
    "legend('D2(e^{j\\omega})', 'D9(e^{j\\omega})')"
   ]
  },
  {
   "cell_type": "markdown",
   "metadata": {},
   "source": [
    "c) Defina espaço como sendo um vetor com 100 amostras de “silêncio” usando zeros.\n",
    "Defina seu número de telefone como fone através dos sinais apropriados e espaço. Por\n",
    "exemplo, se seu número é 32718210, você vai digitar\n",
    "\n",
    "> fone = [d3 espaço d2 espaço d7 espaço d1 espaço d8 espaço d2 espaço d1 espaço d0];\n",
    "\n",
    "Observe que os dígitos definidos na parte (a) e espaço devem ser vetores linha. “Toque”\n",
    "seu número usando sound e verifique que ele soa do mesmo modo que quando você o\n",
    "digita no teclado.\n"
   ]
  },
  {
   "cell_type": "code",
   "execution_count": 3,
   "metadata": {},
   "outputs": [],
   "source": [
    "space = zeros(1,100);\n",
    "fone = [d9 space d8 space d7 space d1 space d4 space d7 space d2 space d9 space d6];\n",
    "sound(fone, 8192);"
   ]
  },
  {
   "cell_type": "markdown",
   "metadata": {},
   "source": [
    "## Parte 2: Problemas Intermediários\n",
    "\n",
    "Nesta parte você aprenderá a decodificar números de telefone. Os números a ser\n",
    "decodificados estão em um arquivo chamado touch.mat. Os dados podem ser carregados\n",
    "no MATLAB digitando load touch. Se o arquivo for carregado corretamente você deve ser\n",
    "capaz de listar os nomes das variáveis digitando\n",
    "\n",
    "> who\n",
    "\n",
    "As variáveis são\n",
    "> hardx1 hardx2 x1 x2\n",
    "\n",
    "Os vetores x1 e x2 contém versões amostradas das sequências representando dois diferentes\n",
    "números (as sequências são como na parte (c)). Os vetores hardx1 e hardx2 são versões\n",
    "discadas menos precisas dos mesmos números."
   ]
  },
  {
   "cell_type": "code",
   "execution_count": 4,
   "metadata": {},
   "outputs": [
    {
     "name": "stdout",
     "output_type": "stream",
     "text": [
      "error: load: unable to find file touch\n"
     ]
    }
   ],
   "source": [
    "load touch"
   ]
  },
  {
   "cell_type": "markdown",
   "metadata": {},
   "source": [
    "d) Usando fft compute 2048 amostras igualmente espaçadas da TFTD de cada dígito de x1.\n",
    "Para aplicar fft a cada dígito separadamente será preciso segmentar o sinal em sete dígitos\n",
    "usando a informação sobre os comprimentos relativos dos dígitos e espaços, ou então\n",
    "esboçando o sinal e identificando onde cada dígito começa e termina. Para determinar os\n",
    "dígitos do número de telefone representado por x1, esboce a amplitude da TFTD e compare\n",
    "as frequências de pico do sinal com aquelas da figura 1 (na sua resposta a soma dos dígitos\n",
    "do número encontrado deve ser 41)."
   ]
  },
  {
   "cell_type": "code",
   "execution_count": null,
   "metadata": {},
   "outputs": [],
   "source": []
  },
  {
   "cell_type": "markdown",
   "metadata": {},
   "source": [
    "e) Repita a parte (d) para o sinal x2 e decodifique os dígitos desse número também (nesse\n",
    "caso a soma dos dígitos não é 41)."
   ]
  },
  {
   "cell_type": "code",
   "execution_count": null,
   "metadata": {},
   "outputs": [],
   "source": []
  },
  {
   "cell_type": "markdown",
   "metadata": {},
   "source": [
    "## Parte 3: Problemas Avançados\n",
    "\n",
    "Nesta parte você escreverá uma função para decodificar números de telefone,\n",
    "automaticamente, a partir dos tons gerados por um teclado. Para projetar o decodificador\n",
    "você observará as energias dos tons em cada uma das possíveis frequências indicadas na\n",
    "figura 1.\n"
   ]
  },
  {
   "cell_type": "markdown",
   "metadata": {},
   "source": [
    "f) Usando fft para computar 2048 amostras de $X(e^{j\\omega})$, encontre que valor de $\\omega_k$, e do\n",
    "índice k correspondente, é mais próximo de cada uma das frequências dos tons. Lembre que\n",
    "os vetores no MATLAB iniciam com o índice k=1, de modo que a amostra da DTFT em\n",
    "$\\omega = 0$ é armazenada em $X(1)$."
   ]
  },
  {
   "cell_type": "code",
   "execution_count": 75,
   "metadata": {},
   "outputs": [
    {
     "data": {
      "image/png": "[encoded data removed]",
      "text/plain": [
       "<IPython.core.display.Image object>"
      ]
     },
     "metadata": {},
     "output_type": "display_data"
    }
   ],
   "source": [
    "x = fone(1:1000);\n",
    "X = fft(x, 2048);\n",
    "energy = X.*conj(X);\n",
    "plot(w_k, energy, w_k(214), energy(214));\n",
    "xlim([0 pi/2])"
   ]
  },
  {
   "cell_type": "code",
   "execution_count": 80,
   "metadata": {},
   "outputs": [],
   "source": [
    "function adjusted_freqs = get_approx_freqs(rows, columns, freqs)\n",
    "    values = [rows columns];\n",
    "    adjusted_freqs = [];\n",
    "\n",
    "    for v = values\n",
    "        [m,i] = min(abs(freqs - v));\n",
    "        adjusted_freqs = [adjusted_freqs freqs(i)];\n",
    "    end\n",
    "end\n",
    "\n",
    "function freqs_energy = get_freqs_energy(freqs, energy, all_freqs)\n",
    "    freqs_energy = [];\n",
    "    for f = freqs\n",
    "        i = find(all_freqs == f); \n",
    "        freqs_energy = [freqs_energy energy(i-1) + energy(i) + energy(i+1)];\n",
    "    end\n",
    "end"
   ]
  },
  {
   "cell_type": "code",
   "execution_count": 142,
   "metadata": {},
   "outputs": [],
   "source": [
    "% incluir na função final\n",
    "    \n",
    "function digit = decode_digit(d, w_k, rows, columns, numbers)\n",
    "    D = fft(d, 2048);  % DFT of digit signal (0 < n < 999)\n",
    "    E = D.*conj(D);    % energy\n",
    "    adjusted_w = get_approx_freqs(rows, columns, w_k);\n",
    "    e = get_freqs_energy(adjusted_w, E, w_k);\n",
    "    \n",
    "    [x, i] = max(e);\n",
    "    e(i) = -1;         % clear maximum value to get the second maximum\n",
    "    [y, j] = max(e);\n",
    "    \n",
    "    if i < 4\n",
    "        digit = numbers(i, j-4);\n",
    "    else\n",
    "        digit = numbers(j, i-4);\n",
    "    end\n",
    "end"
   ]
  },
  {
   "cell_type": "code",
   "execution_count": 157,
   "metadata": {},
   "outputs": [
    {
     "name": "stdout",
     "output_type": "stream",
     "text": [
      "ans =\n",
      "\n",
      "   0.00000   0.00000   0.00000   1.46253   1.85305   0.99246  -0.31413\n",
      "\n",
      "ans = 0\n"
     ]
    }
   ],
   "source": [
    "fone(1099:1105)\n",
    "d8(1)"
   ]
  },
  {
   "cell_type": "code",
   "execution_count": 174,
   "metadata": {},
   "outputs": [],
   "source": [
    "function decoded_number = decdtmf(X)\n",
    "    n = linspace(0, 2047, 2048); % criado com o dobro do tamanho para ouvir melhor\n",
    "    w_k = 2*n*pi/2048;\n",
    "    rows = [0.5346, 0.5906, 0.6535, 0.7217];\n",
    "    columns = [0.9274, 1.0247, 1.1328];\n",
    "    numbers = [1 2 3; 4 5 6; 7 8 9; -1 0 -1];\n",
    "    decoded_number = [];\n",
    "\n",
    "    for i = 0:6\n",
    "        start = 1100*i+1;\n",
    "        d = X(start:start+999);\n",
    "        digit = decode_digit(d, w_k, rows, columns, numbers);\n",
    "        decoded_number = [decoded_number digit];\n",
    "    end\n",
    "end"
   ]
  },
  {
   "cell_type": "code",
   "execution_count": 175,
   "metadata": {},
   "outputs": [
    {
     "name": "stdout",
     "output_type": "stream",
     "text": [
      "decoded_number =\n",
      "\n",
      "   9   8   7   1   4   7   2\n",
      "\n"
     ]
    }
   ],
   "source": [
    "decoded_number = decdtmf(fone)"
   ]
  },
  {
   "cell_type": "markdown",
   "metadata": {},
   "source": [
    "g) O valor de $|X(e^{j\\omega k})|^2$ dá a energia em um sinal, na frequência $\\omega_k$ . Calcule a DFT de d8 (definido na parte (a)), e use a saída da fft para computar $|D8(e^{j\\omega k})|^2$ para cada um dos $\\omega_k$ determinado na parte (f). A energia é a maior para os valores de $\\omega_k$ correspondentes a um “8”?"
   ]
  },
  {
   "cell_type": "code",
   "execution_count": null,
   "metadata": {},
   "outputs": [],
   "source": []
  },
  {
   "cell_type": "markdown",
   "metadata": {},
   "source": [
    "h) Escreva uma função decdtmf que aceita como entrada um sinal DTMF no formato usado\n",
    "na parte (c) e retorna como saída um vetor de comprimento 7 contendo o número de\n",
    "telefone. Teste sua função usando as entradas x1 e x2 e verifique que ela retorna os mesmos\n",
    "números que você obteve nas partes (d) e (e). Repita para o número definido na parte (c).\n"
   ]
  },
  {
   "cell_type": "code",
   "execution_count": null,
   "metadata": {},
   "outputs": [],
   "source": []
  }
 ],
 "metadata": {
  "kernelspec": {
   "display_name": "Octave",
   "language": "octave",
   "name": "octave"
  },
  "language_info": {
   "file_extension": ".m",
   "help_links": [
    {
     "text": "GNU Octave",
     "url": "https://www.gnu.org/software/octave/support.html"
    },
    {
     "text": "Octave Kernel",
     "url": "https://github.com/Calysto/octave_kernel"
    },
    {
     "text": "MetaKernel Magics",
     "url": "https://metakernel.readthedocs.io/en/latest/source/README.html"
    }
   ],
   "mimetype": "text/x-octave",
   "name": "octave",
   "version": "4.2.2"
  }
 },
 "nbformat": 4,
 "nbformat_minor": 2
}
